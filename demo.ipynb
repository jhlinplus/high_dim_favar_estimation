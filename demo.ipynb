{
 "cells": [
  {
   "cell_type": "code",
   "execution_count": null,
   "id": "8f919c55-33bc-4a0f-9689-0635fdf65598",
   "metadata": {},
   "outputs": [],
   "source": []
  },
  {
   "cell_type": "code",
   "execution_count": null,
   "id": "5d2b7315-8c99-4fa8-9fa3-b06818801d7a",
   "metadata": {},
   "outputs": [],
   "source": []
  },
  {
   "cell_type": "code",
   "execution_count": 1,
   "id": "48b3d7e0-0b5c-4ef8-a41f-c49346c33588",
   "metadata": {},
   "outputs": [],
   "source": [
    "import pandas as pd\n",
    "import numpy as np"
   ]
  },
  {
   "cell_type": "code",
   "execution_count": 2,
   "id": "f8f1a20b-dcd1-4f2d-93b5-0e48a9e6b8f4",
   "metadata": {},
   "outputs": [],
   "source": [
    "from srcPy import AutoFAVAR, FAVAR"
   ]
  },
  {
   "cell_type": "code",
   "execution_count": null,
   "id": "c098b75d-f997-4e05-8e25-9688e1c6dd2c",
   "metadata": {},
   "outputs": [],
   "source": []
  },
  {
   "cell_type": "markdown",
   "id": "a505cbb1-c03d-4380-9755-56f863334850",
   "metadata": {},
   "source": [
    "## 0. Read data"
   ]
  },
  {
   "cell_type": "code",
   "execution_count": 3,
   "id": "62cbbb09-a76a-49c8-b345-14beb46428a8",
   "metadata": {},
   "outputs": [
    {
     "data": {
      "text/plain": [
       "((100, 100), (100, 100))"
      ]
     },
     "execution_count": 3,
     "metadata": {},
     "output_type": "execute_result"
    }
   ],
   "source": [
    "x, y = pd.read_csv('example_data/X.csv',index_col=0), pd.read_csv('example_data/Y.csv',index_col=0)\n",
    "x.shape, y.shape"
   ]
  },
  {
   "cell_type": "code",
   "execution_count": 4,
   "id": "3f6f9f0b-738d-4163-83cd-038460d48c7e",
   "metadata": {},
   "outputs": [
    {
     "data": {
      "text/html": [
       "<div>\n",
       "<style scoped>\n",
       "    .dataframe tbody tr th:only-of-type {\n",
       "        vertical-align: middle;\n",
       "    }\n",
       "\n",
       "    .dataframe tbody tr th {\n",
       "        vertical-align: top;\n",
       "    }\n",
       "\n",
       "    .dataframe thead th {\n",
       "        text-align: right;\n",
       "    }\n",
       "</style>\n",
       "<table border=\"1\" class=\"dataframe\">\n",
       "  <thead>\n",
       "    <tr style=\"text-align: right;\">\n",
       "      <th></th>\n",
       "      <th>Y1</th>\n",
       "      <th>Y2</th>\n",
       "      <th>Y3</th>\n",
       "      <th>Y4</th>\n",
       "      <th>Y5</th>\n",
       "      <th>Y6</th>\n",
       "      <th>Y7</th>\n",
       "      <th>Y8</th>\n",
       "      <th>Y9</th>\n",
       "      <th>Y10</th>\n",
       "      <th>...</th>\n",
       "      <th>Y91</th>\n",
       "      <th>Y92</th>\n",
       "      <th>Y93</th>\n",
       "      <th>Y94</th>\n",
       "      <th>Y95</th>\n",
       "      <th>Y96</th>\n",
       "      <th>Y97</th>\n",
       "      <th>Y98</th>\n",
       "      <th>Y99</th>\n",
       "      <th>Y100</th>\n",
       "    </tr>\n",
       "    <tr>\n",
       "      <th>time_idx</th>\n",
       "      <th></th>\n",
       "      <th></th>\n",
       "      <th></th>\n",
       "      <th></th>\n",
       "      <th></th>\n",
       "      <th></th>\n",
       "      <th></th>\n",
       "      <th></th>\n",
       "      <th></th>\n",
       "      <th></th>\n",
       "      <th></th>\n",
       "      <th></th>\n",
       "      <th></th>\n",
       "      <th></th>\n",
       "      <th></th>\n",
       "      <th></th>\n",
       "      <th></th>\n",
       "      <th></th>\n",
       "      <th></th>\n",
       "      <th></th>\n",
       "      <th></th>\n",
       "    </tr>\n",
       "  </thead>\n",
       "  <tbody>\n",
       "    <tr>\n",
       "      <th>1</th>\n",
       "      <td>0.614396</td>\n",
       "      <td>0.964794</td>\n",
       "      <td>0.205893</td>\n",
       "      <td>-0.648300</td>\n",
       "      <td>0.113615</td>\n",
       "      <td>-0.079261</td>\n",
       "      <td>0.381705</td>\n",
       "      <td>-0.532581</td>\n",
       "      <td>-0.443132</td>\n",
       "      <td>-0.312741</td>\n",
       "      <td>...</td>\n",
       "      <td>-0.439978</td>\n",
       "      <td>1.059277</td>\n",
       "      <td>-0.323260</td>\n",
       "      <td>-0.553377</td>\n",
       "      <td>0.235119</td>\n",
       "      <td>-1.101950</td>\n",
       "      <td>0.150781</td>\n",
       "      <td>-0.093707</td>\n",
       "      <td>0.384868</td>\n",
       "      <td>0.137204</td>\n",
       "    </tr>\n",
       "    <tr>\n",
       "      <th>2</th>\n",
       "      <td>0.043483</td>\n",
       "      <td>-0.311459</td>\n",
       "      <td>0.113461</td>\n",
       "      <td>0.109752</td>\n",
       "      <td>-0.356715</td>\n",
       "      <td>-0.581808</td>\n",
       "      <td>0.103916</td>\n",
       "      <td>0.140395</td>\n",
       "      <td>0.166327</td>\n",
       "      <td>-0.854355</td>\n",
       "      <td>...</td>\n",
       "      <td>-0.126835</td>\n",
       "      <td>-1.013673</td>\n",
       "      <td>-0.119078</td>\n",
       "      <td>0.267141</td>\n",
       "      <td>-0.602526</td>\n",
       "      <td>-0.366413</td>\n",
       "      <td>0.007523</td>\n",
       "      <td>-1.433163</td>\n",
       "      <td>0.308292</td>\n",
       "      <td>0.036191</td>\n",
       "    </tr>\n",
       "    <tr>\n",
       "      <th>3</th>\n",
       "      <td>0.268806</td>\n",
       "      <td>-0.465801</td>\n",
       "      <td>-0.022908</td>\n",
       "      <td>0.048832</td>\n",
       "      <td>0.830169</td>\n",
       "      <td>-0.796044</td>\n",
       "      <td>-0.150087</td>\n",
       "      <td>-0.000410</td>\n",
       "      <td>0.246142</td>\n",
       "      <td>-0.046778</td>\n",
       "      <td>...</td>\n",
       "      <td>0.236769</td>\n",
       "      <td>0.507834</td>\n",
       "      <td>-0.701815</td>\n",
       "      <td>-2.011438</td>\n",
       "      <td>0.622552</td>\n",
       "      <td>0.687118</td>\n",
       "      <td>-0.732307</td>\n",
       "      <td>0.252882</td>\n",
       "      <td>-0.377549</td>\n",
       "      <td>-0.210850</td>\n",
       "    </tr>\n",
       "  </tbody>\n",
       "</table>\n",
       "<p>3 rows × 100 columns</p>\n",
       "</div>"
      ],
      "text/plain": [
       "                Y1        Y2        Y3        Y4        Y5        Y6  \\\n",
       "time_idx                                                               \n",
       "1         0.614396  0.964794  0.205893 -0.648300  0.113615 -0.079261   \n",
       "2         0.043483 -0.311459  0.113461  0.109752 -0.356715 -0.581808   \n",
       "3         0.268806 -0.465801 -0.022908  0.048832  0.830169 -0.796044   \n",
       "\n",
       "                Y7        Y8        Y9       Y10  ...       Y91       Y92  \\\n",
       "time_idx                                          ...                       \n",
       "1         0.381705 -0.532581 -0.443132 -0.312741  ... -0.439978  1.059277   \n",
       "2         0.103916  0.140395  0.166327 -0.854355  ... -0.126835 -1.013673   \n",
       "3        -0.150087 -0.000410  0.246142 -0.046778  ...  0.236769  0.507834   \n",
       "\n",
       "               Y93       Y94       Y95       Y96       Y97       Y98  \\\n",
       "time_idx                                                               \n",
       "1        -0.323260 -0.553377  0.235119 -1.101950  0.150781 -0.093707   \n",
       "2        -0.119078  0.267141 -0.602526 -0.366413  0.007523 -1.433163   \n",
       "3        -0.701815 -2.011438  0.622552  0.687118 -0.732307  0.252882   \n",
       "\n",
       "               Y99      Y100  \n",
       "time_idx                      \n",
       "1         0.384868  0.137204  \n",
       "2         0.308292  0.036191  \n",
       "3        -0.377549 -0.210850  \n",
       "\n",
       "[3 rows x 100 columns]"
      ]
     },
     "execution_count": 4,
     "metadata": {},
     "output_type": "execute_result"
    }
   ],
   "source": [
    "y.head(3)"
   ]
  },
  {
   "cell_type": "code",
   "execution_count": 5,
   "id": "c2b77bff-6e5f-49b8-adae-9bea5bdedf54",
   "metadata": {},
   "outputs": [
    {
     "data": {
      "text/html": [
       "<div>\n",
       "<style scoped>\n",
       "    .dataframe tbody tr th:only-of-type {\n",
       "        vertical-align: middle;\n",
       "    }\n",
       "\n",
       "    .dataframe tbody tr th {\n",
       "        vertical-align: top;\n",
       "    }\n",
       "\n",
       "    .dataframe thead th {\n",
       "        text-align: right;\n",
       "    }\n",
       "</style>\n",
       "<table border=\"1\" class=\"dataframe\">\n",
       "  <thead>\n",
       "    <tr style=\"text-align: right;\">\n",
       "      <th></th>\n",
       "      <th>X1</th>\n",
       "      <th>X2</th>\n",
       "      <th>X3</th>\n",
       "      <th>X4</th>\n",
       "      <th>X5</th>\n",
       "      <th>X6</th>\n",
       "      <th>X7</th>\n",
       "      <th>X8</th>\n",
       "      <th>X9</th>\n",
       "      <th>X10</th>\n",
       "      <th>...</th>\n",
       "      <th>X91</th>\n",
       "      <th>X92</th>\n",
       "      <th>X93</th>\n",
       "      <th>X94</th>\n",
       "      <th>X95</th>\n",
       "      <th>X96</th>\n",
       "      <th>X97</th>\n",
       "      <th>X98</th>\n",
       "      <th>X99</th>\n",
       "      <th>X100</th>\n",
       "    </tr>\n",
       "    <tr>\n",
       "      <th>time_idx</th>\n",
       "      <th></th>\n",
       "      <th></th>\n",
       "      <th></th>\n",
       "      <th></th>\n",
       "      <th></th>\n",
       "      <th></th>\n",
       "      <th></th>\n",
       "      <th></th>\n",
       "      <th></th>\n",
       "      <th></th>\n",
       "      <th></th>\n",
       "      <th></th>\n",
       "      <th></th>\n",
       "      <th></th>\n",
       "      <th></th>\n",
       "      <th></th>\n",
       "      <th></th>\n",
       "      <th></th>\n",
       "      <th></th>\n",
       "      <th></th>\n",
       "      <th></th>\n",
       "    </tr>\n",
       "  </thead>\n",
       "  <tbody>\n",
       "    <tr>\n",
       "      <th>1</th>\n",
       "      <td>-0.100736</td>\n",
       "      <td>-0.215206</td>\n",
       "      <td>-0.194921</td>\n",
       "      <td>0.086109</td>\n",
       "      <td>-0.141367</td>\n",
       "      <td>0.144609</td>\n",
       "      <td>-0.070564</td>\n",
       "      <td>0.074842</td>\n",
       "      <td>-0.006033</td>\n",
       "      <td>0.106137</td>\n",
       "      <td>...</td>\n",
       "      <td>-0.171001</td>\n",
       "      <td>-0.233844</td>\n",
       "      <td>0.072867</td>\n",
       "      <td>-0.111692</td>\n",
       "      <td>-0.154498</td>\n",
       "      <td>0.009950</td>\n",
       "      <td>0.065247</td>\n",
       "      <td>-0.015717</td>\n",
       "      <td>0.015995</td>\n",
       "      <td>0.093946</td>\n",
       "    </tr>\n",
       "    <tr>\n",
       "      <th>2</th>\n",
       "      <td>0.064581</td>\n",
       "      <td>0.132862</td>\n",
       "      <td>-0.263804</td>\n",
       "      <td>0.179877</td>\n",
       "      <td>-0.065660</td>\n",
       "      <td>0.399248</td>\n",
       "      <td>0.001430</td>\n",
       "      <td>-0.172531</td>\n",
       "      <td>0.000561</td>\n",
       "      <td>0.011380</td>\n",
       "      <td>...</td>\n",
       "      <td>-0.175317</td>\n",
       "      <td>0.113113</td>\n",
       "      <td>-0.006083</td>\n",
       "      <td>-0.256066</td>\n",
       "      <td>0.220495</td>\n",
       "      <td>-0.234262</td>\n",
       "      <td>-0.045540</td>\n",
       "      <td>-0.023510</td>\n",
       "      <td>-0.106902</td>\n",
       "      <td>-0.310751</td>\n",
       "    </tr>\n",
       "    <tr>\n",
       "      <th>3</th>\n",
       "      <td>-0.214974</td>\n",
       "      <td>-0.319049</td>\n",
       "      <td>0.145227</td>\n",
       "      <td>0.156510</td>\n",
       "      <td>-0.082962</td>\n",
       "      <td>-0.083639</td>\n",
       "      <td>-0.037105</td>\n",
       "      <td>-0.465667</td>\n",
       "      <td>-0.038461</td>\n",
       "      <td>0.084311</td>\n",
       "      <td>...</td>\n",
       "      <td>-0.061821</td>\n",
       "      <td>-0.034856</td>\n",
       "      <td>0.139800</td>\n",
       "      <td>-0.153172</td>\n",
       "      <td>0.088622</td>\n",
       "      <td>0.189861</td>\n",
       "      <td>-0.074970</td>\n",
       "      <td>0.091326</td>\n",
       "      <td>-0.201813</td>\n",
       "      <td>-0.014935</td>\n",
       "    </tr>\n",
       "  </tbody>\n",
       "</table>\n",
       "<p>3 rows × 100 columns</p>\n",
       "</div>"
      ],
      "text/plain": [
       "                X1        X2        X3        X4        X5        X6  \\\n",
       "time_idx                                                               \n",
       "1        -0.100736 -0.215206 -0.194921  0.086109 -0.141367  0.144609   \n",
       "2         0.064581  0.132862 -0.263804  0.179877 -0.065660  0.399248   \n",
       "3        -0.214974 -0.319049  0.145227  0.156510 -0.082962 -0.083639   \n",
       "\n",
       "                X7        X8        X9       X10  ...       X91       X92  \\\n",
       "time_idx                                          ...                       \n",
       "1        -0.070564  0.074842 -0.006033  0.106137  ... -0.171001 -0.233844   \n",
       "2         0.001430 -0.172531  0.000561  0.011380  ... -0.175317  0.113113   \n",
       "3        -0.037105 -0.465667 -0.038461  0.084311  ... -0.061821 -0.034856   \n",
       "\n",
       "               X93       X94       X95       X96       X97       X98  \\\n",
       "time_idx                                                               \n",
       "1         0.072867 -0.111692 -0.154498  0.009950  0.065247 -0.015717   \n",
       "2        -0.006083 -0.256066  0.220495 -0.234262 -0.045540 -0.023510   \n",
       "3         0.139800 -0.153172  0.088622  0.189861 -0.074970  0.091326   \n",
       "\n",
       "               X99      X100  \n",
       "time_idx                      \n",
       "1         0.015995  0.093946  \n",
       "2        -0.106902 -0.310751  \n",
       "3        -0.201813 -0.014935  \n",
       "\n",
       "[3 rows x 100 columns]"
      ]
     },
     "execution_count": 5,
     "metadata": {},
     "output_type": "execute_result"
    }
   ],
   "source": [
    "x.head(3)"
   ]
  },
  {
   "cell_type": "code",
   "execution_count": 6,
   "id": "1033f090-a65f-4592-bd38-d9155dcdec73",
   "metadata": {},
   "outputs": [],
   "source": [
    "ydata, xdata = y.values, x.values ## get the numpy arrays"
   ]
  },
  {
   "cell_type": "markdown",
   "id": "4722c747-bb9e-4af2-b68f-4dd00029e067",
   "metadata": {},
   "source": [
    "## 1. Set up tuning parameter range and run"
   ]
  },
  {
   "cell_type": "code",
   "execution_count": 7,
   "id": "2d5c7c5d-6556-4be6-a7d6-ff4242fa9cb6",
   "metadata": {},
   "outputs": [],
   "source": [
    "rk_seq = np.arange(3,8,1)\n",
    "lambdaB_seq = np.arange(0.25,3.25,0.25) * np.sqrt(np.log(xdata.shape[1])/xdata.shape[0])    # constant_range * sqrt(log(p)/n) which is the theoretical rate \n",
    "lambdaA_seq = None # default sequence will be used; alternatively can pass in a sequence per your liking"
   ]
  },
  {
   "cell_type": "markdown",
   "id": "1338c021-2188-4fdb-a7fb-700555203ea8",
   "metadata": {},
   "source": [
    "### use AutoFAVAR, where the code picks the optimal by doing grid search"
   ]
  },
  {
   "cell_type": "code",
   "execution_count": 8,
   "id": "710d572d-c74a-4aa9-858c-7064ef387602",
   "metadata": {},
   "outputs": [],
   "source": [
    "model_auto = AutoFAVAR(IR = 'IC3',\n",
    "                       max_iter = 500,\n",
    "                       tol = 1.0e-4)"
   ]
  },
  {
   "cell_type": "code",
   "execution_count": 9,
   "id": "ac30889a-f2ff-4cd2-8c08-9df7095d106c",
   "metadata": {},
   "outputs": [
    {
     "name": "stdout",
     "output_type": "stream",
     "text": [
      "[2024-02-08 22:20:44] Stage I: running autofit for the Information Eqn over a lattice\n",
      "[2024-02-08 22:22:46] Done; r_best=3 (index=0), lambdaB_best=0.1073 (index=1); refitting ...\n",
      "[2024-02-08 22:22:46] Start Information Equation Estimation\n",
      ">>> Converged @ iter = 15; f_terminal = 24.7386\n",
      "[2024-02-08 22:22:48] Stage II: running autofit for the VAR Eqn over a grid\n",
      "[2024-02-08 22:22:49] Done; lambdaA_best=0.0217; refitting ...\n",
      "[2024-02-08 22:22:49] Start VAR estimation\n",
      ">>> Done; A.shape=(103, 103, 2)\n"
     ]
    }
   ],
   "source": [
    "output = model_auto.autofit(ydata, xdata, 2, rk_seq, lambdaB_seq, lambdaA_seq, verbose=False)"
   ]
  },
  {
   "cell_type": "code",
   "execution_count": 10,
   "id": "4464ef7d-bab2-4c7b-9dd0-7d1fdb5066de",
   "metadata": {},
   "outputs": [
    {
     "data": {
      "text/plain": [
       "dict_keys(['estA', 'estTheta', 'estF', 'estLambda', 'estB', 'pic', 'bic'])"
      ]
     },
     "execution_count": 10,
     "metadata": {},
     "output_type": "execute_result"
    }
   ],
   "source": [
    "output.keys()"
   ]
  },
  {
   "cell_type": "markdown",
   "id": "eb3c8aa7-299d-4b2f-9849-ada02f705490",
   "metadata": {},
   "source": [
    "### directly supply the values of the tuning parameters"
   ]
  },
  {
   "cell_type": "code",
   "execution_count": 11,
   "id": "a37c46e1-f659-46eb-88de-04ab73fdfd86",
   "metadata": {},
   "outputs": [],
   "source": [
    "model = FAVAR(IR = 'IC3', max_iter = 500, tol = 1.0e-4)"
   ]
  },
  {
   "cell_type": "code",
   "execution_count": 13,
   "id": "deca7fc8-390b-467b-b0c2-31a039c7a631",
   "metadata": {},
   "outputs": [
    {
     "name": "stdout",
     "output_type": "stream",
     "text": [
      "[2024-02-08 23:07:12] Start Information Equation Estimation\n",
      ">> f_initial = 16.3420\n",
      ">> iter=0, fB_delta=16.6726, fTheta_delta=-5.3957, f_delta=11.2769\n",
      ">> iter=1, fB_delta=-5.1024, fTheta_delta=-0.0608, f_delta=-5.1632\n",
      ">> iter=2, fB_delta=-0.4376, fTheta_delta=-0.0026, f_delta=-0.4403\n",
      ">> iter=3, fB_delta=-0.1075, fTheta_delta=-0.0003, f_delta=-0.1078\n",
      ">> iter=4, fB_delta=-0.0344, fTheta_delta=-0.0000, f_delta=-0.0344\n",
      ">> iter=5, fB_delta=-0.0122, fTheta_delta=-0.0000, f_delta=-0.0122\n",
      ">> iter=6, fB_delta=-0.0045, fTheta_delta=-0.0000, f_delta=-0.0045\n",
      ">> iter=7, fB_delta=-0.0018, fTheta_delta=-0.0000, f_delta=-0.0018\n",
      ">> iter=8, fB_delta=-0.0007, fTheta_delta=-0.0000, f_delta=-0.0007\n",
      ">> iter=9, fB_delta=-0.0003, fTheta_delta=-0.0000, f_delta=-0.0003\n",
      ">> iter=10, fB_delta=-0.0001, fTheta_delta=-0.0000, f_delta=-0.0001\n",
      ">> iter=11, fB_delta=-0.0000, fTheta_delta=-0.0000, f_delta=-0.0000\n",
      ">>> Converged @ iter = 12; f_terminal = 21.8536\n",
      "[2024-02-08 23:07:15] Start VAR estimation\n",
      ">>> Done; A.shape=(105, 105, 2)\n"
     ]
    }
   ],
   "source": [
    "output = model.fit(ydata, xdata, 2, rk=5, lambdaB=0.1073, lambdaA=0.0217, verbose=2)"
   ]
  },
  {
   "cell_type": "code",
   "execution_count": null,
   "id": "9be0e4fb-bf6c-45ea-803b-4a5c248b3d79",
   "metadata": {},
   "outputs": [],
   "source": []
  }
 ],
 "metadata": {
  "kernelspec": {
   "display_name": "Python 3 (ipykernel)",
   "language": "python",
   "name": "python3"
  },
  "language_info": {
   "codemirror_mode": {
    "name": "ipython",
    "version": 3
   },
   "file_extension": ".py",
   "mimetype": "text/x-python",
   "name": "python",
   "nbconvert_exporter": "python",
   "pygments_lexer": "ipython3",
   "version": "3.10.13"
  }
 },
 "nbformat": 4,
 "nbformat_minor": 5
}
