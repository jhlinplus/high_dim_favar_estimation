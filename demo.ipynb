{
 "cells": [
  {
   "cell_type": "code",
   "execution_count": null,
   "id": "48b3d7e0-0b5c-4ef8-a41f-c49346c33588",
   "metadata": {},
   "outputs": [],
   "source": [
    "import pandas as pd\n",
    "import numpy as np"
   ]
  },
  {
   "cell_type": "code",
   "execution_count": null,
   "id": "f8f1a20b-dcd1-4f2d-93b5-0e48a9e6b8f4",
   "metadata": {},
   "outputs": [],
   "source": [
    "from srcPy import AutoFAVAR, FAVAR"
   ]
  },
  {
   "cell_type": "code",
   "execution_count": null,
   "id": "c098b75d-f997-4e05-8e25-9688e1c6dd2c",
   "metadata": {},
   "outputs": [],
   "source": []
  },
  {
   "cell_type": "markdown",
   "id": "a505cbb1-c03d-4380-9755-56f863334850",
   "metadata": {},
   "source": [
    "## 0. Read data"
   ]
  },
  {
   "cell_type": "code",
   "execution_count": null,
   "id": "62cbbb09-a76a-49c8-b345-14beb46428a8",
   "metadata": {},
   "outputs": [],
   "source": [
    "x, y = pd.read_csv('example_data/X.csv',index_col=0), pd.read_csv('example_data/Y.csv',index_col=0)\n",
    "x.shape, y.shape"
   ]
  },
  {
   "cell_type": "code",
   "execution_count": null,
   "id": "3f6f9f0b-738d-4163-83cd-038460d48c7e",
   "metadata": {},
   "outputs": [],
   "source": [
    "y.head(3)"
   ]
  },
  {
   "cell_type": "code",
   "execution_count": null,
   "id": "c2b77bff-6e5f-49b8-adae-9bea5bdedf54",
   "metadata": {},
   "outputs": [],
   "source": [
    "x.head(3)"
   ]
  },
  {
   "cell_type": "code",
   "execution_count": null,
   "id": "1033f090-a65f-4592-bd38-d9155dcdec73",
   "metadata": {},
   "outputs": [],
   "source": [
    "ydata, xdata = y.values, x.values ## get the numpy arrays"
   ]
  },
  {
   "cell_type": "markdown",
   "id": "4722c747-bb9e-4af2-b68f-4dd00029e067",
   "metadata": {},
   "source": [
    "## 1. Set up tuning parameter range and run \"AutoFAVAR.fit()\""
   ]
  },
  {
   "cell_type": "code",
   "execution_count": null,
   "id": "2d5c7c5d-6556-4be6-a7d6-ff4242fa9cb6",
   "metadata": {},
   "outputs": [],
   "source": [
    "rk_seq = np.arange(3,8,1)\n",
    "lambdaB_seq = np.arange(0.25,3.25,0.25) * np.sqrt(np.log(xdata.shape[1])/xdata.shape[0])    # constant_range * sqrt(log(p)/n) which is the theoretical rate \n",
    "lambdaA_seq = None # default sequence will be used; alternatively can pass in a sequence per your liking"
   ]
  },
  {
   "cell_type": "code",
   "execution_count": null,
   "id": "710d572d-c74a-4aa9-858c-7064ef387602",
   "metadata": {},
   "outputs": [],
   "source": [
    "## the model performance grid search over the supplied tuning parameter sequence\n",
    "model_auto = AutoFAVAR(IR = 'PC3',\n",
    "                       max_iter = 500,\n",
    "                       tol = 1.0e-4)"
   ]
  },
  {
   "cell_type": "code",
   "execution_count": null,
   "id": "ac30889a-f2ff-4cd2-8c08-9df7095d106c",
   "metadata": {},
   "outputs": [],
   "source": [
    "model_auto_output = model_auto.autofit(ydata, xdata, 2, rk_seq, lambdaB_seq, lambdaA_seq, verbose=False)"
   ]
  },
  {
   "cell_type": "code",
   "execution_count": null,
   "id": "4464ef7d-bab2-4c7b-9dd0-7d1fdb5066de",
   "metadata": {},
   "outputs": [],
   "source": [
    "model_auto_output.keys()"
   ]
  },
  {
   "cell_type": "markdown",
   "id": "eb3c8aa7-299d-4b2f-9849-ada02f705490",
   "metadata": {},
   "source": [
    "## 2. Directly supply the values of the tuning parameter and do one-off run"
   ]
  },
  {
   "cell_type": "code",
   "execution_count": null,
   "id": "a37c46e1-f659-46eb-88de-04ab73fdfd86",
   "metadata": {},
   "outputs": [],
   "source": [
    "model = FAVAR(IR = 'PC3', max_iter = 500, tol = 1.0e-4)"
   ]
  },
  {
   "cell_type": "code",
   "execution_count": null,
   "id": "deca7fc8-390b-467b-b0c2-31a039c7a631",
   "metadata": {},
   "outputs": [],
   "source": [
    "model_output = model.fit(ydata, xdata, 2, rk=5, lambdaB=0.10, lambdaA=0.02, verbose=2)"
   ]
  },
  {
   "cell_type": "code",
   "execution_count": null,
   "id": "9be0e4fb-bf6c-45ea-803b-4a5c248b3d79",
   "metadata": {},
   "outputs": [],
   "source": []
  }
 ],
 "metadata": {
  "kernelspec": {
   "display_name": "Python 3 (ipykernel)",
   "language": "python",
   "name": "python3"
  },
  "language_info": {
   "codemirror_mode": {
    "name": "ipython",
    "version": 3
   },
   "file_extension": ".py",
   "mimetype": "text/x-python",
   "name": "python",
   "nbconvert_exporter": "python",
   "pygments_lexer": "ipython3",
   "version": "3.10.13"
  }
 },
 "nbformat": 4,
 "nbformat_minor": 5
}
